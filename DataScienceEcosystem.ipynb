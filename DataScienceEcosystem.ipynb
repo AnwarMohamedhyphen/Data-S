{
 "cells": [
  {
   "cell_type": "markdown",
   "id": "0d08e284-71f9-49a4-b664-97f9e36d6436",
   "metadata": {},
   "source": [
    "# Dtat Science Tools And Ecosystem"
   ]
  },
  {
   "cell_type": "markdown",
   "id": "9f003f6c-fa9b-4135-bb89-e48766922d3d",
   "metadata": {},
   "source": [
    "## In this notebook Data Science Tools and Ecosystem ate summarized."
   ]
  },
  {
   "cell_type": "markdown",
   "id": "6b4cd562-fb01-43df-b221-3fd75a259b6e",
   "metadata": {},
   "source": [
    "\n",
    " ### some of the pupuler languages that Data Scientist use are:\n",
    " \n",
    "\n",
    "Python\n",
    "\n",
    "R\n",
    "\n",
    "SQL\n",
    "\n",
    "Scala\n",
    "\n",
    "Java\n",
    "\n",
    "C++\n",
    "\n",
    "Julia\n",
    "\n",
    "JavaScript\n",
    "\n",
    "PHP\n",
    "\n",
    "Go\n",
    "\n",
    "Ruby\n",
    "\n",
    "Visual Basic\n",
    "\n",
    "\n"
   ]
  },
  {
   "cell_type": "markdown",
   "id": "a1c2c2fd-5884-439f-a493-93fdd08a22e8",
   "metadata": {},
   "source": [
    "## Some of the commonly used libraries used by Data Scientists include:\n",
    "\n",
    "Pandas\n",
    "\n",
    "Numpy\n",
    "\n",
    "Matplotlib\n",
    "\n",
    "Seaborn\n",
    "\n",
    "Scikit-learn\n",
    "\n",
    "Keras\n",
    "\n",
    "TensorFlow\n",
    "\n",
    "PyTorch\n",
    "\n",
    "Apache Spark\n",
    "\n",
    "Vegas\n",
    "\n",
    "Big DL\n",
    "\n",
    "Ggplot2"
   ]
  },
  {
   "cell_type": "markdown",
   "id": "7d51c3d6-b0e7-4107-b2e1-8034b93c93af",
   "metadata": {},
   "source": [
    "\n",
    "\n",
    "\n",
    "## Data Science Tools\n",
    "\n",
    "\n",
    "| Jupyter Nootbok|\n",
    "\n",
    "|   Anaconda        |\n",
    "\n",
    "|   R studio        |\n",
    "\n",
    "|   spyder          |\n",
    "\n"
   ]
  },
  {
   "cell_type": "markdown",
   "id": "08221333-a33c-4dce-a86f-74199dc9c47b",
   "metadata": {},
   "source": [
    "\n",
    "\n",
    "## Below are a few exampels of evaluting arithmetics expression in python\n",
    "\n",
    "\n"
   ]
  },
  {
   "cell_type": "code",
   "execution_count": 1,
   "id": "42091696-77bc-4a26-83d2-18d589f53954",
   "metadata": {},
   "outputs": [
    {
     "data": {
      "text/plain": [
       "3.3333333333333335"
      ]
     },
     "execution_count": 1,
     "metadata": {},
     "output_type": "execute_result"
    }
   ],
   "source": [
    "# this well covert 200 minutes to houers by diving by 60\n",
    "\n",
    "200/60\n"
   ]
  },
  {
   "cell_type": "code",
   "execution_count": 3,
   "id": "d0f1eb0b-a4f6-4612-a896-519c4f248979",
   "metadata": {},
   "outputs": [
    {
     "data": {
      "text/plain": [
       "20"
      ]
     },
     "execution_count": 3,
     "metadata": {},
     "output_type": "execute_result"
    }
   ],
   "source": [
    "# this smpole Arithmetic expression\n",
    "\n",
    "(3*5)+5"
   ]
  },
  {
   "cell_type": "markdown",
   "id": "ad098712-ab95-4267-bc11-552747008a2f",
   "metadata": {},
   "source": [
    "## objectives\n",
    "\n",
    "List  pupuler languages in Data Scienc\n",
    "\n",
    "List commonly  libraries used by Data Scientists \n",
    "\n",
    "list Data Science Tools¶"
   ]
  },
  {
   "cell_type": "markdown",
   "id": "4611afc9-5ae2-49cf-8eb7-305f172d0671",
   "metadata": {},
   "source": [
    "\n",
    "# Author\n",
    "\n",
    "Anwar Mohamed"
   ]
  },
  {
   "cell_type": "code",
   "execution_count": null,
   "id": "753afc86-6bf0-412f-b1c9-a5b197d6cf02",
   "metadata": {},
   "outputs": [],
   "source": []
  }
 ],
 "metadata": {
  "kernelspec": {
   "display_name": "Python [conda env:base] *",
   "language": "python",
   "name": "conda-base-py"
  },
  "language_info": {
   "codemirror_mode": {
    "name": "ipython",
    "version": 3
   },
   "file_extension": ".py",
   "mimetype": "text/x-python",
   "name": "python",
   "nbconvert_exporter": "python",
   "pygments_lexer": "ipython3",
   "version": "3.13.5"
  }
 },
 "nbformat": 4,
 "nbformat_minor": 5
}
