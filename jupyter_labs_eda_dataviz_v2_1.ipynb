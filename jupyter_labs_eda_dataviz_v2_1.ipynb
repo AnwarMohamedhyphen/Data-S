{
  "cells": [
    {
      "cell_type": "markdown",
      "metadata": {
        "id": "view-in-github",
        "colab_type": "text"
      },
      "source": [
        "<a href=\"https://colab.research.google.com/github/AnwarMohamedhyphen/Data-S/blob/main/jupyter_labs_eda_dataviz_v2_1.ipynb\" target=\"_parent\"><img src=\"https://colab.research.google.com/assets/colab-badge.svg\" alt=\"Open In Colab\"/></a>"
      ]
    },
    {
      "cell_type": "markdown",
      "metadata": {
        "id": "84a115f9-be55-4245-b41a-79a032cb4fcb"
      },
      "source": [
        "<p style=\"text-align:center\">\n",
        "    <a href=\"https://skills.network\" target=\"_blank\">\n",
        "    <img src=\"https://cf-courses-data.s3.us.cloud-object-storage.appdomain.cloud/assets/logos/SN_web_lightmode.png\" width=\"200\" alt=\"Skills Network Logo\">\n",
        "    </a>\n",
        "</p>\n"
      ]
    },
    {
      "cell_type": "markdown",
      "metadata": {
        "id": "120a2e83-259c-4116-abf3-75b4c895b275"
      },
      "source": [
        "# **SpaceX  Falcon 9 First Stage Landing Prediction**\n"
      ]
    },
    {
      "cell_type": "markdown",
      "metadata": {
        "id": "3faa7618-c4b9-46d1-ac6c-f22eb8273f5c"
      },
      "source": [
        " ## Hands-on Lab: Complete the EDA with Visualization\n"
      ]
    },
    {
      "cell_type": "markdown",
      "metadata": {
        "id": "fd9435d6-bef0-41e8-a148-9fafb7ebea08"
      },
      "source": [
        "Estimated time needed: **70** minutes\n"
      ]
    },
    {
      "cell_type": "markdown",
      "metadata": {
        "id": "ce1e7bb3-9d16-4c1a-ac2c-bc658236e178"
      },
      "source": [
        "In this assignment, we will predict if the Falcon 9 first stage will land successfully. SpaceX advertises Falcon 9 rocket launches on its website with a cost of 62 million dollars; other providers cost upward of 165 million dollars each, much of the savings is due to the fact that SpaceX can reuse the first stage.\n",
        "\n",
        "In this lab, you will perform Exploratory Data Analysis and Feature Engineering.\n"
      ]
    },
    {
      "cell_type": "markdown",
      "metadata": {
        "id": "fbcc624f-8806-4f2c-9f9b-ac517d11ef6a"
      },
      "source": [
        "Falcon 9 first stage will land successfully\n"
      ]
    },
    {
      "cell_type": "markdown",
      "metadata": {
        "id": "305542be-31ed-4599-b919-a04ba72b6d28"
      },
      "source": [
        "![](https://cf-courses-data.s3.us.cloud-object-storage.appdomain.cloud/IBMDeveloperSkillsNetwork-DS0701EN-SkillsNetwork/api/Images/landing_1.gif)\n"
      ]
    },
    {
      "cell_type": "markdown",
      "metadata": {
        "id": "ed2f89f2-6870-46c1-a25d-e6256cabc384"
      },
      "source": [
        "Several examples of an unsuccessful landing are shown here:\n"
      ]
    },
    {
      "cell_type": "markdown",
      "metadata": {
        "id": "2d7c6972-3fcf-4b8e-93f5-1be1a44c0cdf"
      },
      "source": [
        "![](https://cf-courses-data.s3.us.cloud-object-storage.appdomain.cloud/IBMDeveloperSkillsNetwork-DS0701EN-SkillsNetwork/api/Images/crash.gif)\n"
      ]
    },
    {
      "cell_type": "markdown",
      "metadata": {
        "id": "e052177c-baed-40c2-bcc4-81518e83b412"
      },
      "source": [
        "Most unsuccessful landings are planned. Space X performs a controlled landing in the oceans.\n"
      ]
    },
    {
      "cell_type": "markdown",
      "metadata": {
        "id": "25dce1e5-b86d-4bc3-8193-f1d53cf66a4b"
      },
      "source": [
        "  ## Objectives\n",
        "Perform exploratory Data Analysis and Feature Engineering using `Pandas` and `Matplotlib`\n",
        "\n",
        "- Exploratory Data Analysis\n",
        "- Preparing Data  Feature Engineering\n"
      ]
    },
    {
      "cell_type": "markdown",
      "metadata": {
        "id": "833cecb3-2739-4b56-921b-36eec0ad80f0"
      },
      "source": [
        "----\n"
      ]
    },
    {
      "cell_type": "markdown",
      "metadata": {
        "id": "13460a49-4355-40e8-aebd-4021385d843c"
      },
      "source": [
        "Install the below libraries\n"
      ]
    },
    {
      "cell_type": "markdown",
      "metadata": {
        "id": "d0bfe0cc"
      },
      "source": [
        "# Task\n",
        "Build a dashboard with Plotly Dash using the data from \"spacex_launch_dash.csv\"."
      ]
    },
    {
      "cell_type": "markdown",
      "metadata": {
        "id": "1958e79f"
      },
      "source": [
        "## Install and import libraries\n",
        "\n",
        "### Subtask:\n",
        "Install `dash` and `plotly`. Import necessary libraries like `pandas`, `dash`, `dash_core_components`, `dash_html_components`, and `plotly.express`.\n"
      ]
    },
    {
      "cell_type": "markdown",
      "metadata": {
        "id": "8f521ed8"
      },
      "source": [
        "**Reasoning**:\n",
        "Install dash and plotly libraries using pip.\n",
        "\n"
      ]
    },
    {
      "cell_type": "code",
      "metadata": {
        "colab": {
          "base_uri": "https://localhost:8080/"
        },
        "id": "69fd6991",
        "outputId": "f2065434-8b66-4c13-8be9-b956eee50bc5"
      },
      "source": [
        "!pip install dash\n",
        "!pip install plotly"
      ],
      "execution_count": 2,
      "outputs": [
        {
          "output_type": "stream",
          "name": "stdout",
          "text": [
            "Collecting dash\n",
            "  Downloading dash-3.2.0-py3-none-any.whl.metadata (10 kB)\n",
            "Requirement already satisfied: Flask<3.2,>=1.0.4 in /usr/local/lib/python3.12/dist-packages (from dash) (3.1.2)\n",
            "Requirement already satisfied: Werkzeug<3.2 in /usr/local/lib/python3.12/dist-packages (from dash) (3.1.3)\n",
            "Requirement already satisfied: plotly>=5.0.0 in /usr/local/lib/python3.12/dist-packages (from dash) (5.24.1)\n",
            "Requirement already satisfied: importlib-metadata in /usr/local/lib/python3.12/dist-packages (from dash) (8.7.0)\n",
            "Requirement already satisfied: typing-extensions>=4.1.1 in /usr/local/lib/python3.12/dist-packages (from dash) (4.15.0)\n",
            "Requirement already satisfied: requests in /usr/local/lib/python3.12/dist-packages (from dash) (2.32.4)\n",
            "Collecting retrying (from dash)\n",
            "  Downloading retrying-1.4.2-py3-none-any.whl.metadata (5.5 kB)\n",
            "Requirement already satisfied: nest-asyncio in /usr/local/lib/python3.12/dist-packages (from dash) (1.6.0)\n",
            "Requirement already satisfied: setuptools in /usr/local/lib/python3.12/dist-packages (from dash) (75.2.0)\n",
            "Requirement already satisfied: blinker>=1.9.0 in /usr/local/lib/python3.12/dist-packages (from Flask<3.2,>=1.0.4->dash) (1.9.0)\n",
            "Requirement already satisfied: click>=8.1.3 in /usr/local/lib/python3.12/dist-packages (from Flask<3.2,>=1.0.4->dash) (8.3.0)\n",
            "Requirement already satisfied: itsdangerous>=2.2.0 in /usr/local/lib/python3.12/dist-packages (from Flask<3.2,>=1.0.4->dash) (2.2.0)\n",
            "Requirement already satisfied: jinja2>=3.1.2 in /usr/local/lib/python3.12/dist-packages (from Flask<3.2,>=1.0.4->dash) (3.1.6)\n",
            "Requirement already satisfied: markupsafe>=2.1.1 in /usr/local/lib/python3.12/dist-packages (from Flask<3.2,>=1.0.4->dash) (3.0.3)\n",
            "Requirement already satisfied: tenacity>=6.2.0 in /usr/local/lib/python3.12/dist-packages (from plotly>=5.0.0->dash) (8.5.0)\n",
            "Requirement already satisfied: packaging in /usr/local/lib/python3.12/dist-packages (from plotly>=5.0.0->dash) (25.0)\n",
            "Requirement already satisfied: zipp>=3.20 in /usr/local/lib/python3.12/dist-packages (from importlib-metadata->dash) (3.23.0)\n",
            "Requirement already satisfied: charset_normalizer<4,>=2 in /usr/local/lib/python3.12/dist-packages (from requests->dash) (3.4.4)\n",
            "Requirement already satisfied: idna<4,>=2.5 in /usr/local/lib/python3.12/dist-packages (from requests->dash) (3.11)\n",
            "Requirement already satisfied: urllib3<3,>=1.21.1 in /usr/local/lib/python3.12/dist-packages (from requests->dash) (2.5.0)\n",
            "Requirement already satisfied: certifi>=2017.4.17 in /usr/local/lib/python3.12/dist-packages (from requests->dash) (2025.10.5)\n",
            "Downloading dash-3.2.0-py3-none-any.whl (7.9 MB)\n",
            "\u001b[2K   \u001b[90m━━━━━━━━━━━━━━━━━━━━━━━━━━━━━━━━━━━━━━━━\u001b[0m \u001b[32m7.9/7.9 MB\u001b[0m \u001b[31m36.8 MB/s\u001b[0m eta \u001b[36m0:00:00\u001b[0m\n",
            "\u001b[?25hDownloading retrying-1.4.2-py3-none-any.whl (10 kB)\n",
            "Installing collected packages: retrying, dash\n",
            "Successfully installed dash-3.2.0 retrying-1.4.2\n",
            "Requirement already satisfied: plotly in /usr/local/lib/python3.12/dist-packages (5.24.1)\n",
            "Requirement already satisfied: tenacity>=6.2.0 in /usr/local/lib/python3.12/dist-packages (from plotly) (8.5.0)\n",
            "Requirement already satisfied: packaging in /usr/local/lib/python3.12/dist-packages (from plotly) (25.0)\n"
          ]
        }
      ]
    },
    {
      "cell_type": "markdown",
      "metadata": {
        "id": "1cd7ca45"
      },
      "source": [
        "**Reasoning**:\n",
        "Import the necessary libraries for building the Dash application.\n",
        "\n"
      ]
    },
    {
      "cell_type": "markdown",
      "metadata": {
        "id": "4c2128a7"
      },
      "source": [
        "**Reasoning**:\n",
        "The traceback indicates that `dash_core_components` and `dash_html_components` were not found. These modules are now part of the main `dash` library. Import them directly from `dash`.\n",
        "\n"
      ]
    },
    {
      "cell_type": "code",
      "metadata": {
        "id": "BIxfz-99qEJz"
      },
      "source": [
        "import pandas as pd\n",
        "import dash\n",
        "from dash import dcc\n",
        "from dash import html\n",
        "import plotly.express as px"
      ],
      "execution_count": 6,
      "outputs": []
    },
    {
      "cell_type": "markdown",
      "metadata": {
        "id": "1393419c"
      },
      "source": [
        "## Load and prepare data\n",
        "\n",
        "### Subtask:\n",
        "Load the dataset.\n"
      ]
    },
    {
      "cell_type": "markdown",
      "metadata": {
        "id": "b6850f12"
      },
      "source": [
        "**Reasoning**:\n",
        "Load the data from the CSV file into a pandas DataFrame and display the first 5 rows.\n",
        "\n"
      ]
    },
    {
      "cell_type": "markdown",
      "metadata": {
        "id": "2390954b"
      },
      "source": [
        "**Reasoning**:\n",
        "The previous attempt to load the data failed because the file was not found in the current directory. I need to check the available files and try to load the correct file.\n",
        "\n"
      ]
    },
    {
      "cell_type": "code",
      "metadata": {
        "colab": {
          "base_uri": "https://localhost:8080/"
        },
        "id": "Q6gJ5SssqJ1I",
        "outputId": "139a929c-ef54-484b-d4bc-5441b54f632d"
      },
      "source": [
        "import os\n",
        "print(os.listdir())"
      ],
      "execution_count": 8,
      "outputs": [
        {
          "output_type": "stream",
          "name": "stdout",
          "text": [
            "['.config', 'sample_data']\n"
          ]
        }
      ]
    },
    {
      "cell_type": "markdown",
      "metadata": {
        "id": "4afdac8e"
      },
      "source": [
        "**Reasoning**:\n",
        "The required CSV file is not in the current directory. Based on the previous notebook history, the relevant data was loaded from a URL. I will try loading the data from the URL used in the previous notebook.\n",
        "\n"
      ]
    },
    {
      "cell_type": "code",
      "metadata": {
        "colab": {
          "base_uri": "https://localhost:8080/",
          "height": 206
        },
        "id": "00068025",
        "outputId": "195d20e7-6de5-44a6-af37-ac57ab1d6660"
      },
      "source": [
        "spacex_df = pd.read_csv(\"https://cf-courses-data.s3.us.cloud-object-storage.appdomain.cloud/IBM-DS0321EN-SkillsNetwork/datasets/spacex_launch_dash.csv\")\n",
        "display(spacex_df.head())"
      ],
      "execution_count": 9,
      "outputs": [
        {
          "output_type": "display_data",
          "data": {
            "text/plain": [
              "   Unnamed: 0  Flight Number  Launch Site  class  Payload Mass (kg)  \\\n",
              "0           0              1  CCAFS LC-40      0                0.0   \n",
              "1           1              2  CCAFS LC-40      0                0.0   \n",
              "2           2              3  CCAFS LC-40      0              525.0   \n",
              "3           3              4  CCAFS LC-40      0              500.0   \n",
              "4           4              5  CCAFS LC-40      0              677.0   \n",
              "\n",
              "  Booster Version Booster Version Category  \n",
              "0  F9 v1.0  B0003                     v1.0  \n",
              "1  F9 v1.0  B0004                     v1.0  \n",
              "2  F9 v1.0  B0005                     v1.0  \n",
              "3  F9 v1.0  B0006                     v1.0  \n",
              "4  F9 v1.0  B0007                     v1.0  "
            ],
            "text/html": [
              "\n",
              "  <div id=\"df-0af2c561-ca1e-4eba-b18b-d4f659adfa43\" class=\"colab-df-container\">\n",
              "    <div>\n",
              "<style scoped>\n",
              "    .dataframe tbody tr th:only-of-type {\n",
              "        vertical-align: middle;\n",
              "    }\n",
              "\n",
              "    .dataframe tbody tr th {\n",
              "        vertical-align: top;\n",
              "    }\n",
              "\n",
              "    .dataframe thead th {\n",
              "        text-align: right;\n",
              "    }\n",
              "</style>\n",
              "<table border=\"1\" class=\"dataframe\">\n",
              "  <thead>\n",
              "    <tr style=\"text-align: right;\">\n",
              "      <th></th>\n",
              "      <th>Unnamed: 0</th>\n",
              "      <th>Flight Number</th>\n",
              "      <th>Launch Site</th>\n",
              "      <th>class</th>\n",
              "      <th>Payload Mass (kg)</th>\n",
              "      <th>Booster Version</th>\n",
              "      <th>Booster Version Category</th>\n",
              "    </tr>\n",
              "  </thead>\n",
              "  <tbody>\n",
              "    <tr>\n",
              "      <th>0</th>\n",
              "      <td>0</td>\n",
              "      <td>1</td>\n",
              "      <td>CCAFS LC-40</td>\n",
              "      <td>0</td>\n",
              "      <td>0.0</td>\n",
              "      <td>F9 v1.0  B0003</td>\n",
              "      <td>v1.0</td>\n",
              "    </tr>\n",
              "    <tr>\n",
              "      <th>1</th>\n",
              "      <td>1</td>\n",
              "      <td>2</td>\n",
              "      <td>CCAFS LC-40</td>\n",
              "      <td>0</td>\n",
              "      <td>0.0</td>\n",
              "      <td>F9 v1.0  B0004</td>\n",
              "      <td>v1.0</td>\n",
              "    </tr>\n",
              "    <tr>\n",
              "      <th>2</th>\n",
              "      <td>2</td>\n",
              "      <td>3</td>\n",
              "      <td>CCAFS LC-40</td>\n",
              "      <td>0</td>\n",
              "      <td>525.0</td>\n",
              "      <td>F9 v1.0  B0005</td>\n",
              "      <td>v1.0</td>\n",
              "    </tr>\n",
              "    <tr>\n",
              "      <th>3</th>\n",
              "      <td>3</td>\n",
              "      <td>4</td>\n",
              "      <td>CCAFS LC-40</td>\n",
              "      <td>0</td>\n",
              "      <td>500.0</td>\n",
              "      <td>F9 v1.0  B0006</td>\n",
              "      <td>v1.0</td>\n",
              "    </tr>\n",
              "    <tr>\n",
              "      <th>4</th>\n",
              "      <td>4</td>\n",
              "      <td>5</td>\n",
              "      <td>CCAFS LC-40</td>\n",
              "      <td>0</td>\n",
              "      <td>677.0</td>\n",
              "      <td>F9 v1.0  B0007</td>\n",
              "      <td>v1.0</td>\n",
              "    </tr>\n",
              "  </tbody>\n",
              "</table>\n",
              "</div>\n",
              "    <div class=\"colab-df-buttons\">\n",
              "\n",
              "  <div class=\"colab-df-container\">\n",
              "    <button class=\"colab-df-convert\" onclick=\"convertToInteractive('df-0af2c561-ca1e-4eba-b18b-d4f659adfa43')\"\n",
              "            title=\"Convert this dataframe to an interactive table.\"\n",
              "            style=\"display:none;\">\n",
              "\n",
              "  <svg xmlns=\"http://www.w3.org/2000/svg\" height=\"24px\" viewBox=\"0 -960 960 960\">\n",
              "    <path d=\"M120-120v-720h720v720H120Zm60-500h600v-160H180v160Zm220 220h160v-160H400v160Zm0 220h160v-160H400v160ZM180-400h160v-160H180v160Zm440 0h160v-160H620v160ZM180-180h160v-160H180v160Zm440 0h160v-160H620v160Z\"/>\n",
              "  </svg>\n",
              "    </button>\n",
              "\n",
              "  <style>\n",
              "    .colab-df-container {\n",
              "      display:flex;\n",
              "      gap: 12px;\n",
              "    }\n",
              "\n",
              "    .colab-df-convert {\n",
              "      background-color: #E8F0FE;\n",
              "      border: none;\n",
              "      border-radius: 50%;\n",
              "      cursor: pointer;\n",
              "      display: none;\n",
              "      fill: #1967D2;\n",
              "      height: 32px;\n",
              "      padding: 0 0 0 0;\n",
              "      width: 32px;\n",
              "    }\n",
              "\n",
              "    .colab-df-convert:hover {\n",
              "      background-color: #E2EBFA;\n",
              "      box-shadow: 0px 1px 2px rgba(60, 64, 67, 0.3), 0px 1px 3px 1px rgba(60, 64, 67, 0.15);\n",
              "      fill: #174EA6;\n",
              "    }\n",
              "\n",
              "    .colab-df-buttons div {\n",
              "      margin-bottom: 4px;\n",
              "    }\n",
              "\n",
              "    [theme=dark] .colab-df-convert {\n",
              "      background-color: #3B4455;\n",
              "      fill: #D2E3FC;\n",
              "    }\n",
              "\n",
              "    [theme=dark] .colab-df-convert:hover {\n",
              "      background-color: #434B5C;\n",
              "      box-shadow: 0px 1px 3px 1px rgba(0, 0, 0, 0.15);\n",
              "      filter: drop-shadow(0px 1px 2px rgba(0, 0, 0, 0.3));\n",
              "      fill: #FFFFFF;\n",
              "    }\n",
              "  </style>\n",
              "\n",
              "    <script>\n",
              "      const buttonEl =\n",
              "        document.querySelector('#df-0af2c561-ca1e-4eba-b18b-d4f659adfa43 button.colab-df-convert');\n",
              "      buttonEl.style.display =\n",
              "        google.colab.kernel.accessAllowed ? 'block' : 'none';\n",
              "\n",
              "      async function convertToInteractive(key) {\n",
              "        const element = document.querySelector('#df-0af2c561-ca1e-4eba-b18b-d4f659adfa43');\n",
              "        const dataTable =\n",
              "          await google.colab.kernel.invokeFunction('convertToInteractive',\n",
              "                                                    [key], {});\n",
              "        if (!dataTable) return;\n",
              "\n",
              "        const docLinkHtml = 'Like what you see? Visit the ' +\n",
              "          '<a target=\"_blank\" href=https://colab.research.google.com/notebooks/data_table.ipynb>data table notebook</a>'\n",
              "          + ' to learn more about interactive tables.';\n",
              "        element.innerHTML = '';\n",
              "        dataTable['output_type'] = 'display_data';\n",
              "        await google.colab.output.renderOutput(dataTable, element);\n",
              "        const docLink = document.createElement('div');\n",
              "        docLink.innerHTML = docLinkHtml;\n",
              "        element.appendChild(docLink);\n",
              "      }\n",
              "    </script>\n",
              "  </div>\n",
              "\n",
              "\n",
              "    <div id=\"df-c7f7392f-5952-4db7-9337-348f193fe1bb\">\n",
              "      <button class=\"colab-df-quickchart\" onclick=\"quickchart('df-c7f7392f-5952-4db7-9337-348f193fe1bb')\"\n",
              "                title=\"Suggest charts\"\n",
              "                style=\"display:none;\">\n",
              "\n",
              "<svg xmlns=\"http://www.w3.org/2000/svg\" height=\"24px\"viewBox=\"0 0 24 24\"\n",
              "     width=\"24px\">\n",
              "    <g>\n",
              "        <path d=\"M19 3H5c-1.1 0-2 .9-2 2v14c0 1.1.9 2 2 2h14c1.1 0 2-.9 2-2V5c0-1.1-.9-2-2-2zM9 17H7v-7h2v7zm4 0h-2V7h2v10zm4 0h-2v-4h2v4z\"/>\n",
              "    </g>\n",
              "</svg>\n",
              "      </button>\n",
              "\n",
              "<style>\n",
              "  .colab-df-quickchart {\n",
              "      --bg-color: #E8F0FE;\n",
              "      --fill-color: #1967D2;\n",
              "      --hover-bg-color: #E2EBFA;\n",
              "      --hover-fill-color: #174EA6;\n",
              "      --disabled-fill-color: #AAA;\n",
              "      --disabled-bg-color: #DDD;\n",
              "  }\n",
              "\n",
              "  [theme=dark] .colab-df-quickchart {\n",
              "      --bg-color: #3B4455;\n",
              "      --fill-color: #D2E3FC;\n",
              "      --hover-bg-color: #434B5C;\n",
              "      --hover-fill-color: #FFFFFF;\n",
              "      --disabled-bg-color: #3B4455;\n",
              "      --disabled-fill-color: #666;\n",
              "  }\n",
              "\n",
              "  .colab-df-quickchart {\n",
              "    background-color: var(--bg-color);\n",
              "    border: none;\n",
              "    border-radius: 50%;\n",
              "    cursor: pointer;\n",
              "    display: none;\n",
              "    fill: var(--fill-color);\n",
              "    height: 32px;\n",
              "    padding: 0;\n",
              "    width: 32px;\n",
              "  }\n",
              "\n",
              "  .colab-df-quickchart:hover {\n",
              "    background-color: var(--hover-bg-color);\n",
              "    box-shadow: 0 1px 2px rgba(60, 64, 67, 0.3), 0 1px 3px 1px rgba(60, 64, 67, 0.15);\n",
              "    fill: var(--button-hover-fill-color);\n",
              "  }\n",
              "\n",
              "  .colab-df-quickchart-complete:disabled,\n",
              "  .colab-df-quickchart-complete:disabled:hover {\n",
              "    background-color: var(--disabled-bg-color);\n",
              "    fill: var(--disabled-fill-color);\n",
              "    box-shadow: none;\n",
              "  }\n",
              "\n",
              "  .colab-df-spinner {\n",
              "    border: 2px solid var(--fill-color);\n",
              "    border-color: transparent;\n",
              "    border-bottom-color: var(--fill-color);\n",
              "    animation:\n",
              "      spin 1s steps(1) infinite;\n",
              "  }\n",
              "\n",
              "  @keyframes spin {\n",
              "    0% {\n",
              "      border-color: transparent;\n",
              "      border-bottom-color: var(--fill-color);\n",
              "      border-left-color: var(--fill-color);\n",
              "    }\n",
              "    20% {\n",
              "      border-color: transparent;\n",
              "      border-left-color: var(--fill-color);\n",
              "      border-top-color: var(--fill-color);\n",
              "    }\n",
              "    30% {\n",
              "      border-color: transparent;\n",
              "      border-left-color: var(--fill-color);\n",
              "      border-top-color: var(--fill-color);\n",
              "      border-right-color: var(--fill-color);\n",
              "    }\n",
              "    40% {\n",
              "      border-color: transparent;\n",
              "      border-right-color: var(--fill-color);\n",
              "      border-top-color: var(--fill-color);\n",
              "    }\n",
              "    60% {\n",
              "      border-color: transparent;\n",
              "      border-right-color: var(--fill-color);\n",
              "    }\n",
              "    80% {\n",
              "      border-color: transparent;\n",
              "      border-right-color: var(--fill-color);\n",
              "      border-bottom-color: var(--fill-color);\n",
              "    }\n",
              "    90% {\n",
              "      border-color: transparent;\n",
              "      border-bottom-color: var(--fill-color);\n",
              "    }\n",
              "  }\n",
              "</style>\n",
              "\n",
              "      <script>\n",
              "        async function quickchart(key) {\n",
              "          const quickchartButtonEl =\n",
              "            document.querySelector('#' + key + ' button');\n",
              "          quickchartButtonEl.disabled = true;  // To prevent multiple clicks.\n",
              "          quickchartButtonEl.classList.add('colab-df-spinner');\n",
              "          try {\n",
              "            const charts = await google.colab.kernel.invokeFunction(\n",
              "                'suggestCharts', [key], {});\n",
              "          } catch (error) {\n",
              "            console.error('Error during call to suggestCharts:', error);\n",
              "          }\n",
              "          quickchartButtonEl.classList.remove('colab-df-spinner');\n",
              "          quickchartButtonEl.classList.add('colab-df-quickchart-complete');\n",
              "        }\n",
              "        (() => {\n",
              "          let quickchartButtonEl =\n",
              "            document.querySelector('#df-c7f7392f-5952-4db7-9337-348f193fe1bb button');\n",
              "          quickchartButtonEl.style.display =\n",
              "            google.colab.kernel.accessAllowed ? 'block' : 'none';\n",
              "        })();\n",
              "      </script>\n",
              "    </div>\n",
              "\n",
              "    </div>\n",
              "  </div>\n"
            ],
            "application/vnd.google.colaboratory.intrinsic+json": {
              "type": "dataframe",
              "summary": "{\n  \"name\": \"display(spacex_df\",\n  \"rows\": 5,\n  \"fields\": [\n    {\n      \"column\": \"Unnamed: 0\",\n      \"properties\": {\n        \"dtype\": \"number\",\n        \"std\": 1,\n        \"min\": 0,\n        \"max\": 4,\n        \"num_unique_values\": 5,\n        \"samples\": [\n          1,\n          4,\n          2\n        ],\n        \"semantic_type\": \"\",\n        \"description\": \"\"\n      }\n    },\n    {\n      \"column\": \"Flight Number\",\n      \"properties\": {\n        \"dtype\": \"number\",\n        \"std\": 1,\n        \"min\": 1,\n        \"max\": 5,\n        \"num_unique_values\": 5,\n        \"samples\": [\n          2,\n          5,\n          3\n        ],\n        \"semantic_type\": \"\",\n        \"description\": \"\"\n      }\n    },\n    {\n      \"column\": \"Launch Site\",\n      \"properties\": {\n        \"dtype\": \"category\",\n        \"num_unique_values\": 1,\n        \"samples\": [\n          \"CCAFS LC-40\"\n        ],\n        \"semantic_type\": \"\",\n        \"description\": \"\"\n      }\n    },\n    {\n      \"column\": \"class\",\n      \"properties\": {\n        \"dtype\": \"number\",\n        \"std\": 0,\n        \"min\": 0,\n        \"max\": 0,\n        \"num_unique_values\": 1,\n        \"samples\": [\n          0\n        ],\n        \"semantic_type\": \"\",\n        \"description\": \"\"\n      }\n    },\n    {\n      \"column\": \"Payload Mass (kg)\",\n      \"properties\": {\n        \"dtype\": \"number\",\n        \"std\": 318.0382052521363,\n        \"min\": 0.0,\n        \"max\": 677.0,\n        \"num_unique_values\": 4,\n        \"samples\": [\n          525.0\n        ],\n        \"semantic_type\": \"\",\n        \"description\": \"\"\n      }\n    },\n    {\n      \"column\": \"Booster Version\",\n      \"properties\": {\n        \"dtype\": \"string\",\n        \"num_unique_values\": 5,\n        \"samples\": [\n          \"F9 v1.0  B0004\"\n        ],\n        \"semantic_type\": \"\",\n        \"description\": \"\"\n      }\n    },\n    {\n      \"column\": \"Booster Version Category\",\n      \"properties\": {\n        \"dtype\": \"category\",\n        \"num_unique_values\": 1,\n        \"samples\": [\n          \"v1.0\"\n        ],\n        \"semantic_type\": \"\",\n        \"description\": \"\"\n      }\n    }\n  ]\n}"
            }
          },
          "metadata": {}
        }
      ]
    },
    {
      "cell_type": "markdown",
      "metadata": {
        "id": "c98a7de7"
      },
      "source": [
        "## Create dashboard layout\n",
        "\n",
        "### Subtask:\n",
        "Define the layout of the Dash application using `dash_html_components`. This will include a title, dropdown menus for interactive filtering, and areas for displaying plots.\n"
      ]
    },
    {
      "cell_type": "markdown",
      "metadata": {
        "id": "52c86c72"
      },
      "source": [
        "**Reasoning**:\n",
        "Initialize the Dash app and define the layout with a title, dropdown, range slider, and graph components as per the instructions.\n",
        "\n"
      ]
    },
    {
      "cell_type": "markdown",
      "metadata": {
        "id": "c67ae092"
      },
      "source": [
        "**Reasoning**:\n",
        "The previous code block failed due to a syntax error in the RangeSlider value. Correct the syntax error by ensuring the closing parenthesis matches the opening bracket.\n",
        "\n"
      ]
    },
    {
      "cell_type": "code",
      "metadata": {
        "id": "xX2wdUVbqTtz"
      },
      "source": [
        "app = dash.Dash(__name__)\n",
        "\n",
        "app.layout = html.Div([\n",
        "    html.H1('SpaceX Launch Records Dashboard',\n",
        "            style={'textAlign': 'center', 'color': '#503D36',\n",
        "                   'font-size': 40}),\n",
        "    dcc.Dropdown(id='site-dropdown',\n",
        "                 options=[{'label': 'All Sites', 'value': 'ALL'}] +\n",
        "                         [{'label': site, 'value': site} for site in spacex_df['Launch Site'].unique()],\n",
        "                 value='ALL',\n",
        "                 placeholder=\"Select a Launch Site here\",\n",
        "                 searchable=True\n",
        "                ),\n",
        "    html.Br(),\n",
        "    dcc.Graph(id='success-pie-chart'),\n",
        "    html.Br(),\n",
        "    html.P(\"Payload mass (kg):\"),\n",
        "    dcc.RangeSlider(id='payload-slider',\n",
        "                    min=0, max=10000, step=1000,\n",
        "                    marks={0: '0', 2500: '2500', 5000: '5000', 7500: '7500', 10000: '10000'},\n",
        "                    value=[spacex_df['Payload Mass (kg)'].min(), spacex_df['Payload Mass (kg)'].max()]\n",
        "                   ),\n",
        "    html.Br(),\n",
        "    dcc.Graph(id='success-payload-scatter-chart'),\n",
        "])"
      ],
      "execution_count": 12,
      "outputs": []
    },
    {
      "cell_type": "markdown",
      "metadata": {
        "id": "3ffca39a"
      },
      "source": [
        "## Add interactivity\n",
        "\n",
        "### Subtask:\n",
        "Implement callbacks using `@app.callback` to link the dropdown menus to the plots, so that selecting different options in the dropdowns updates the displayed visualizations.\n"
      ]
    },
    {
      "cell_type": "markdown",
      "metadata": {
        "id": "4dd74e6a"
      },
      "source": [
        "**Reasoning**:\n",
        "Define the callbacks to update the pie chart and scatter plot based on user selections.\n",
        "\n"
      ]
    },
    {
      "cell_type": "markdown",
      "metadata": {
        "id": "8496d53f"
      },
      "source": [
        "**Reasoning**:\n",
        "The previous code block failed because `Output` and `Input` were not imported. I need to import them from `dash.dependencies`.\n",
        "\n"
      ]
    },
    {
      "cell_type": "code",
      "metadata": {
        "id": "oXkpseQBqbe6"
      },
      "source": [
        "from dash.dependencies import Input, Output\n",
        "\n",
        "@app.callback(\n",
        "    Output(component_id='success-pie-chart', component_property='figure'),\n",
        "    Input(component_id='site-dropdown', component_property='value')\n",
        ")\n",
        "def get_pie_chart(entered_site):\n",
        "    if entered_site == 'ALL':\n",
        "        fig = px.pie(spacex_df, values='class', names='Launch Site', title='Total Success Launches By Site')\n",
        "    else:\n",
        "        filtered_df = spacex_df[spacex_df['Launch Site'] == entered_site]\n",
        "        fig = px.pie(filtered_df, names='class', title=f'Total Success Launches for site {entered_site}')\n",
        "    return fig\n",
        "\n",
        "@app.callback(\n",
        "    Output(component_id='success-payload-scatter-chart', component_property='figure'),\n",
        "    [Input(component_id='site-dropdown', component_property='value'),\n",
        "     Input(component_id='payload-slider', component_property='value')]\n",
        ")\n",
        "def update_scatter_chart(entered_site, payload_range):\n",
        "    low, high = payload_range\n",
        "    filtered_df = spacex_df[(spacex_df['Payload Mass (kg)'] >= low) & (spacex_df['Payload Mass (kg)'] <= high)]\n",
        "\n",
        "    if entered_site == 'ALL':\n",
        "        fig = px.scatter(filtered_df, x='Payload Mass (kg)', y='class', color='Booster Version Category',\n",
        "                         title='Correlation between Payload and Success for all Sites')\n",
        "    else:\n",
        "        filtered_df = filtered_df[filtered_df['Launch Site'] == entered_site]\n",
        "        fig = px.scatter(filtered_df, x='Payload Mass (kg)', y='class', color='Booster Version Category',\n",
        "                         title=f'Correlation between Payload and Success for {entered_site}')\n",
        "    return fig"
      ],
      "execution_count": 14,
      "outputs": []
    },
    {
      "cell_type": "markdown",
      "metadata": {
        "id": "00b53605"
      },
      "source": [
        "## Run the dashboard\n",
        "\n",
        "### Subtask:\n",
        "Add code to run the Dash application.\n"
      ]
    },
    {
      "cell_type": "markdown",
      "metadata": {
        "id": "35edf4f7"
      },
      "source": [
        "**Reasoning**:\n",
        "Add the standard Python code block to run the Dash application with debugging enabled.\n",
        "\n"
      ]
    },
    {
      "cell_type": "markdown",
      "metadata": {
        "id": "123404f1"
      },
      "source": [
        "**Reasoning**:\n",
        "The error message indicates that `app.run_server` has been replaced by `app.run`. Update the code to use `app.run`.\n",
        "\n"
      ]
    },
    {
      "cell_type": "code",
      "metadata": {
        "colab": {
          "base_uri": "https://localhost:8080/",
          "height": 671
        },
        "id": "uM3oytjmqh4w",
        "outputId": "ed18847d-b28f-4a3e-9a27-cd6e3ffce0c6"
      },
      "source": [
        "if __name__ == '__main__':\n",
        "    app.run(debug=True)"
      ],
      "execution_count": 16,
      "outputs": [
        {
          "output_type": "display_data",
          "data": {
            "text/plain": [
              "<IPython.core.display.Javascript object>"
            ],
            "application/javascript": [
              "(async (port, path, width, height, cache, element) => {\n",
              "    if (!google.colab.kernel.accessAllowed && !cache) {\n",
              "      return;\n",
              "    }\n",
              "    element.appendChild(document.createTextNode(''));\n",
              "    const url = await google.colab.kernel.proxyPort(port, {cache});\n",
              "    const iframe = document.createElement('iframe');\n",
              "    iframe.src = new URL(path, url).toString();\n",
              "    iframe.height = height;\n",
              "    iframe.width = width;\n",
              "    iframe.style.border = 0;\n",
              "    iframe.allow = [\n",
              "        'accelerometer',\n",
              "        'autoplay',\n",
              "        'camera',\n",
              "        'clipboard-read',\n",
              "        'clipboard-write',\n",
              "        'gyroscope',\n",
              "        'magnetometer',\n",
              "        'microphone',\n",
              "        'serial',\n",
              "        'usb',\n",
              "        'xr-spatial-tracking',\n",
              "    ].join('; ');\n",
              "    element.appendChild(iframe);\n",
              "  })(8050, \"/\", \"100%\", 650, false, window.element)"
            ]
          },
          "metadata": {}
        }
      ]
    },
    {
      "cell_type": "markdown",
      "metadata": {
        "id": "87c542fd"
      },
      "source": [
        "## Summary:\n",
        "\n",
        "### Data Analysis Key Findings\n",
        "\n",
        "*   The necessary libraries for building the Dash application, including `dash`, `pandas`, and `plotly.express`, were successfully installed and imported, with the correction of importing `dcc` and `html` directly from `dash`.\n",
        "*   The dataset was successfully loaded into a pandas DataFrame from a remote URL after an initial attempt to load from a local file failed.\n",
        "*   The layout of the Dash application was successfully defined, including a title, a dropdown for launch site selection, a range slider for payload mass, and placeholders for the pie chart and scatter plot. A syntax error in the range slider's initial value was corrected.\n",
        "*   Callbacks were successfully implemented to update the pie chart based on the selected launch site and the scatter plot based on both the selected launch site and the payload mass range, after correcting for the missing import of `Input` and `Output` from `dash.dependencies`.\n",
        "*   The Dash application was successfully run using `app.run(debug=True)` after correcting from the deprecated `app.run_server`.\n",
        "\n",
        "### Insights or Next Steps\n",
        "\n",
        "*   The developed Dash application provides a functional dashboard for exploring SpaceX launch data based on launch site and payload mass.\n",
        "*   Further enhancements could include adding more filters or visualizations to explore other aspects of the launch data, such as orbital outcomes or specific booster versions.\n"
      ]
    }
  ],
  "metadata": {
    "kernelspec": {
      "name": "python3",
      "display_name": "Python 3 (ipykernel)",
      "language": "python"
    },
    "language_info": {
      "name": "python",
      "version": "3.11.9",
      "mimetype": "text/x-python",
      "codemirror_mode": {
        "name": "ipython",
        "version": 3
      },
      "pygments_lexer": "ipython3",
      "nbconvert_exporter": "python",
      "file_extension": ".py"
    },
    "prev_pub_hash": "3a3602cc85d9beea0478162bb00a6eb29e1929228a736aaea12ea6a5c9962e64",
    "colab": {
      "provenance": [],
      "include_colab_link": true
    }
  },
  "nbformat": 4,
  "nbformat_minor": 0
}